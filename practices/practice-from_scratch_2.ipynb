{
  "cells": [
    {
      "cell_type": "markdown",
      "id": "4ba112a7",
      "metadata": {
        "id": "4ba112a7"
      },
      "source": [
        "# (실습) 통계 기초"
      ]
    },
    {
      "cell_type": "markdown",
      "id": "9bf97162",
      "metadata": {
        "id": "9bf97162"
      },
      "source": [
        "**참고**"
      ]
    },
    {
      "cell_type": "markdown",
      "id": "0889b335",
      "metadata": {
        "id": "0889b335"
      },
      "source": [
        "[통계 기초](https://codingalzi.github.io/datapy/from_scratch_2.html)에\n",
        "정의된 다음 함수들을 활용할 수 있다.\n",
        "\n",
        "- mean\n",
        "- median\n",
        "- quantile\n",
        "- mode\n",
        "- data_range\n",
        "- iqr\n",
        "- var\n",
        "- std\n",
        "- cov\n",
        "- corrcoef"
      ]
    },
    {
      "cell_type": "markdown",
      "id": "95d60690",
      "metadata": {
        "id": "95d60690"
      },
      "source": [
        "**필수 모듈**"
      ]
    },
    {
      "cell_type": "markdown",
      "id": "0a656de8",
      "metadata": {
        "id": "0a656de8"
      },
      "source": [
        "`matplotlib.pyplot`은 막대그래프, 히스토그램, 산점도 등 데이터를 그래프로 시각화할 때 필요한\n",
        "다양한 함수를 제공하는 모듈이다."
      ]
    },
    {
      "cell_type": "code",
      "execution_count": 1,
      "id": "f5458c79",
      "metadata": {
        "id": "f5458c79"
      },
      "outputs": [],
      "source": [
        "import matplotlib.pyplot as plt\n",
        "\n",
        "# 그래프 설정\n",
        "plt.rc('figure', figsize=(10, 6))  # 그래프 크기 지정"
      ]
    },
    {
      "cell_type": "code",
      "execution_count": 6,
      "id": "ff6eed7c",
      "metadata": {
        "colab": {
          "base_uri": "https://localhost:8080/"
        },
        "id": "ff6eed7c",
        "outputId": "5c360be7-bb0c-489b-8fcf-cae011bef75a"
      },
      "outputs": [
        {
          "output_type": "stream",
          "name": "stdout",
          "text": [
            "Reading package lists... Done\n",
            "Building dependency tree... Done\n",
            "Reading state information... Done\n",
            "Note, selecting 'fonts-nanum-extra' for glob 'fonts-nanum*'\n",
            "Note, selecting 'fonts-nanum-coding' for glob 'fonts-nanum*'\n",
            "Note, selecting 'fonts-nanum-eco' for glob 'fonts-nanum*'\n",
            "Note, selecting 'fonts-nanum' for glob 'fonts-nanum*'\n",
            "The following NEW packages will be installed:\n",
            "  fonts-nanum fonts-nanum-coding fonts-nanum-eco fonts-nanum-extra\n",
            "0 upgraded, 4 newly installed, 0 to remove and 29 not upgraded.\n",
            "Need to get 46.0 MB of archives.\n",
            "After this operation, 177 MB of additional disk space will be used.\n",
            "Get:1 http://archive.ubuntu.com/ubuntu jammy/universe amd64 fonts-nanum all 20200506-1 [10.3 MB]\n",
            "Get:2 http://archive.ubuntu.com/ubuntu jammy/universe amd64 fonts-nanum-coding all 2.5-3 [4,988 B]\n",
            "Get:3 http://archive.ubuntu.com/ubuntu jammy/universe amd64 fonts-nanum-eco all 1.000-7 [14.7 MB]\n",
            "Get:4 http://archive.ubuntu.com/ubuntu jammy/universe amd64 fonts-nanum-extra all 20200506-1 [21.0 MB]\n",
            "Fetched 46.0 MB in 1s (41.3 MB/s)\n",
            "debconf: unable to initialize frontend: Dialog\n",
            "debconf: (No usable dialog-like program is installed, so the dialog based frontend cannot be used. at /usr/share/perl5/Debconf/FrontEnd/Dialog.pm line 78, <> line 4.)\n",
            "debconf: falling back to frontend: Readline\n",
            "debconf: unable to initialize frontend: Readline\n",
            "debconf: (This frontend requires a controlling tty.)\n",
            "debconf: falling back to frontend: Teletype\n",
            "dpkg-preconfigure: unable to re-open stdin: \n",
            "Selecting previously unselected package fonts-nanum.\n",
            "(Reading database ... 124947 files and directories currently installed.)\n",
            "Preparing to unpack .../fonts-nanum_20200506-1_all.deb ...\n",
            "Unpacking fonts-nanum (20200506-1) ...\n",
            "Selecting previously unselected package fonts-nanum-coding.\n",
            "Preparing to unpack .../fonts-nanum-coding_2.5-3_all.deb ...\n",
            "Unpacking fonts-nanum-coding (2.5-3) ...\n",
            "Selecting previously unselected package fonts-nanum-eco.\n",
            "Preparing to unpack .../fonts-nanum-eco_1.000-7_all.deb ...\n",
            "Unpacking fonts-nanum-eco (1.000-7) ...\n",
            "Selecting previously unselected package fonts-nanum-extra.\n",
            "Preparing to unpack .../fonts-nanum-extra_20200506-1_all.deb ...\n",
            "Unpacking fonts-nanum-extra (20200506-1) ...\n",
            "Setting up fonts-nanum-extra (20200506-1) ...\n",
            "Setting up fonts-nanum (20200506-1) ...\n",
            "Setting up fonts-nanum-coding (2.5-3) ...\n",
            "Setting up fonts-nanum-eco (1.000-7) ...\n",
            "Processing triggers for fontconfig (2.13.1-4.2ubuntu5) ...\n",
            "/usr/share/fonts: caching, new cache contents: 0 fonts, 1 dirs\n",
            "/usr/share/fonts/truetype: caching, new cache contents: 0 fonts, 3 dirs\n",
            "/usr/share/fonts/truetype/humor-sans: caching, new cache contents: 1 fonts, 0 dirs\n",
            "/usr/share/fonts/truetype/liberation: caching, new cache contents: 16 fonts, 0 dirs\n",
            "/usr/share/fonts/truetype/nanum: caching, new cache contents: 39 fonts, 0 dirs\n",
            "/usr/local/share/fonts: caching, new cache contents: 0 fonts, 0 dirs\n",
            "/root/.local/share/fonts: skipping, no such directory\n",
            "/root/.fonts: skipping, no such directory\n",
            "/usr/share/fonts/truetype: skipping, looped directory detected\n",
            "/usr/share/fonts/truetype/humor-sans: skipping, looped directory detected\n",
            "/usr/share/fonts/truetype/liberation: skipping, looped directory detected\n",
            "/usr/share/fonts/truetype/nanum: skipping, looped directory detected\n",
            "/var/cache/fontconfig: cleaning cache directory\n",
            "/root/.cache/fontconfig: not cleaning non-existent cache directory\n",
            "/root/.fontconfig: not cleaning non-existent cache directory\n",
            "fc-cache: succeeded\n"
          ]
        }
      ],
      "source": [
        "import platform\n",
        "import matplotlib as mpl\n",
        "\n",
        "# 윈도우 설정\n",
        "if platform.system() == 'Windows':\n",
        "    font_path = \"C:/Windows/Fonts/NGULIM.TTF\"\n",
        "    font = mpl.font_manager.FontProperties(fname=font_path).get_name()\n",
        "    plt.rc('font', family=font)\n",
        "# 우분투/구글 코랩 설정\n",
        "elif platform.system() == 'Linux':\n",
        "    # 우분투/구글코랩의 경우 아래 명령문이 최소 한번 실행되어야 함\n",
        "    !sudo apt-get install -y fonts-nanum*\n",
        "    !fc-cache -fv\n",
        "\n",
        "    font = \"NanumBarunGothic\"\n",
        "    if not any(map(lambda ft: ft.name == font, mpl.font_manager.fontManager.ttflist)):\n",
        "        mpl.font_manager.fontManager.addfont(\"/usr/share/fonts/truetype/nanum/NanumBarunGothic.ttf\")\n",
        "    plt.rc(\"font\", family=font)\n",
        "    plt.rc(\"axes\", unicode_minus=False)"
      ]
    },
    {
      "cell_type": "markdown",
      "id": "451e25d5",
      "metadata": {
        "id": "451e25d5"
      },
      "source": [
        "## 데이터 준비"
      ]
    },
    {
      "cell_type": "markdown",
      "id": "5aa9f34e",
      "metadata": {
        "id": "5aa9f34e"
      },
      "source": [
        "영산강에 설치된 승천보에서 측정한 두 개의 데이터셋이다.\n",
        "\n",
        "- `chl_a`: 녹조 발생의 주요 요인인 클로로필-A의 수치 100개\n",
        "- `flow`: 보에서 방출되는 시간당 방류량 수치 100개\n",
        "\n",
        "두 데이터셋의 인덱스는 수질(water quality)을 가리키며,\n",
        "높은 숫자일 수록 수질은 나쁘다."
      ]
    },
    {
      "cell_type": "code",
      "execution_count": 7,
      "id": "b07f5968",
      "metadata": {
        "id": "b07f5968"
      },
      "outputs": [],
      "source": [
        "# 클로로필-A 수치 100개\n",
        "\n",
        "chl_a = [51, 51, 53, 53, 54, 55, 57, 57, 59, 60,\n",
        "         61, 62, 63, 64, 65, 66, 67, 67, 67, 69,\n",
        "         70, 71, 71, 72, 73, 75, 75, 76, 77, 79,\n",
        "         81, 81, 83, 83, 85, 86, 87, 88, 88, 88,\n",
        "         89, 89, 90, 91, 92, 95, 96, 96, 97, 98,\n",
        "         98, 98, 99, 101, 101, 102, 102, 103, 104, 104,\n",
        "         104, 104, 105, 106, 107, 108, 110, 111, 111, 112,\n",
        "         112, 112, 113, 114, 114, 116, 116, 116, 117, 118,\n",
        "         118, 118, 118, 119, 120, 120, 121, 122, 125, 120,\n",
        "         121, 121, 121, 122, 122, 122, 122, 124, 125, 124]"
      ]
    },
    {
      "cell_type": "code",
      "execution_count": 8,
      "id": "7d6a2b0c",
      "metadata": {
        "id": "7d6a2b0c"
      },
      "outputs": [],
      "source": [
        "# 시간당 방류량 수치 100개\n",
        "\n",
        "flow = [25, 25, 24, 24, 22, 22, 21, 21, 20, 20,\n",
        "        19, 19, 19, 18, 18, 18, 17, 17, 17, 16,\n",
        "        16, 16, 17, 16, 17, 17, 16, 16, 16, 16,\n",
        "        16, 16, 16, 16, 16, 15, 15, 15, 15, 15,\n",
        "        15, 14, 15, 14, 14, 13, 13, 13, 13, 13,\n",
        "        13, 13, 13, 13, 13, 13, 12, 12, 12, 12,\n",
        "        12, 12, 52, 11, 11, 11, 11, 11, 12, 12,\n",
        "        12, 12, 12, 11, 12, 12, 12, 11, 11, 11,\n",
        "        11, 11, 11, 11, 11, 11, 11, 11, 11, 10,\n",
        "        9, 9, 9, 9, 9, 9, 9, 49, 9, 9]"
      ]
    },
    {
      "cell_type": "markdown",
      "id": "4057b988",
      "metadata": {
        "id": "4057b988"
      },
      "source": [
        "**문제**"
      ]
    },
    {
      "cell_type": "markdown",
      "id": "dcf9d30b",
      "metadata": {
        "id": "dcf9d30b"
      },
      "source": [
        "각각의 데이터셋 크기가 100임을 확인하라.\n",
        "\n",
        "힌트: `len()` 함수"
      ]
    },
    {
      "cell_type": "code",
      "execution_count": 10,
      "id": "f4251f45",
      "metadata": {
        "colab": {
          "base_uri": "https://localhost:8080/"
        },
        "id": "f4251f45",
        "outputId": "1108415a-1242-4bad-9643-54222aab3cc7"
      },
      "outputs": [
        {
          "output_type": "stream",
          "name": "stdout",
          "text": [
            "100\n",
            "100\n"
          ]
        }
      ],
      "source": [
        "print(len(chl_a))\n",
        "print(len(flow))"
      ]
    },
    {
      "cell_type": "markdown",
      "id": "f5dc3aac",
      "metadata": {
        "id": "f5dc3aac"
      },
      "source": [
        "**문제**"
      ]
    },
    {
      "cell_type": "markdown",
      "id": "5423885b",
      "metadata": {
        "id": "5423885b"
      },
      "source": [
        "가장 높은 클로로필-A의 수치는 얼마인가?"
      ]
    },
    {
      "cell_type": "code",
      "execution_count": 18,
      "id": "b38ff228",
      "metadata": {
        "colab": {
          "base_uri": "https://localhost:8080/"
        },
        "id": "b38ff228",
        "outputId": "749e2aa3-85eb-4a9c-dcc2-7a53fc28849b"
      },
      "outputs": [
        {
          "output_type": "execute_result",
          "data": {
            "text/plain": [
              "51"
            ]
          },
          "metadata": {},
          "execution_count": 18
        }
      ],
      "source": [
        "max(chl_a)\n",
        "min(chl_a)"
      ]
    },
    {
      "cell_type": "markdown",
      "id": "050234f0",
      "metadata": {
        "id": "050234f0"
      },
      "source": [
        "**문제**"
      ]
    },
    {
      "cell_type": "markdown",
      "id": "af256b34",
      "metadata": {
        "id": "af256b34"
      },
      "source": [
        "가장 낮은 시간당 방류량 수치는 얼마인가?"
      ]
    },
    {
      "cell_type": "code",
      "execution_count": 12,
      "id": "ebf50466",
      "metadata": {
        "colab": {
          "base_uri": "https://localhost:8080/"
        },
        "id": "ebf50466",
        "outputId": "e5276a62-6502-428b-fdab-4c0e40c7f1a4"
      },
      "outputs": [
        {
          "output_type": "execute_result",
          "data": {
            "text/plain": [
              "9"
            ]
          },
          "metadata": {},
          "execution_count": 12
        }
      ],
      "source": [
        "min(flow)"
      ]
    },
    {
      "cell_type": "markdown",
      "id": "fb8a227d",
      "metadata": {
        "id": "fb8a227d"
      },
      "source": [
        "## 데이터 살펴보기"
      ]
    },
    {
      "cell_type": "markdown",
      "id": "37e7ef28",
      "metadata": {
        "id": "37e7ef28"
      },
      "source": [
        "**문제**"
      ]
    },
    {
      "cell_type": "markdown",
      "id": "00a80a4a",
      "metadata": {
        "id": "00a80a4a"
      },
      "source": [
        "클로로필-A 데이터에 포함된 값들의 빈도를 막대그래프로 그려라.\n",
        "\n",
        "힌트: `from collections import Counter`"
      ]
    },
    {
      "cell_type": "code",
      "execution_count": 63,
      "id": "ab5989fa",
      "metadata": {
        "colab": {
          "base_uri": "https://localhost:8080/",
          "height": 547
        },
        "id": "ab5989fa",
        "outputId": "f76965af-f3aa-42c8-c0eb-6d7e97bf6988"
      },
      "outputs": [
        {
          "output_type": "display_data",
          "data": {
            "text/plain": [
              "<Figure size 1000x600 with 1 Axes>"
            ],
            "image/png": "[encoded data removed]"
          },
          "metadata": {}
        }
      ],
      "source": [
        "from collections import Counter\n",
        "\n",
        "a = Counter(chl_a)\n",
        "x = range(101)\n",
        "y = [a[x] for x in x]\n",
        "\n",
        "plt.bar(x, y)\n",
        "plt.axis([50, 125, 0, 5])\n",
        "plt.xlabel(\"클로로필-A 수치\")\n",
        "plt.ylabel(\"빈도\")\n",
        "plt.show()"
      ]
    },
    {
      "cell_type": "markdown",
      "id": "1f41759e",
      "metadata": {
        "id": "1f41759e"
      },
      "source": [
        "## 중심 경향성과 평균"
      ]
    },
    {
      "cell_type": "markdown",
      "id": "18f4effa",
      "metadata": {
        "id": "18f4effa"
      },
      "source": [
        "**문제**"
      ]
    },
    {
      "cell_type": "markdown",
      "id": "b354d2bf",
      "metadata": {
        "id": "b354d2bf"
      },
      "source": [
        "방류량의 평균값을 계산하라."
      ]
    },
    {
      "cell_type": "code",
      "execution_count": 61,
      "id": "1ddbe386",
      "metadata": {
        "colab": {
          "base_uri": "https://localhost:8080/"
        },
        "id": "1ddbe386",
        "outputId": "04470863-18a6-45e3-c99c-db485e50f46e"
      },
      "outputs": [
        {
          "output_type": "execute_result",
          "data": {
            "text/plain": [
              "14.93"
            ]
          },
          "metadata": {},
          "execution_count": 61
        }
      ],
      "source": [
        "def mean(xs):\n",
        "  return sum(xs) / len(xs)\n",
        "mean(flow)"
      ]
    },
    {
      "cell_type": "markdown",
      "id": "86a72482",
      "metadata": {
        "id": "86a72482"
      },
      "source": [
        "**문제**"
      ]
    },
    {
      "cell_type": "markdown",
      "id": "16dc162e",
      "metadata": {
        "id": "16dc162e"
      },
      "source": [
        "방류량의 중앙값을 계산하라."
      ]
    },
    {
      "cell_type": "code",
      "execution_count": 62,
      "id": "93814d67",
      "metadata": {
        "colab": {
          "base_uri": "https://localhost:8080/"
        },
        "id": "93814d67",
        "outputId": "4ef3e3ca-1be3-4ab4-d7c1-5cedc90ef54a"
      },
      "outputs": [
        {
          "output_type": "execute_result",
          "data": {
            "text/plain": [
              "13.0"
            ]
          },
          "metadata": {},
          "execution_count": 62
        }
      ],
      "source": [
        "# 리스트의 길이가 짝수일 때\n",
        "def _median_even(xs):\n",
        "    sorted_xs = sorted(xs)\n",
        "    high_midpoint = len(xs) // 2\n",
        "    mean_value = (sorted_xs[high_midpoint - 1] + sorted_xs[high_midpoint]) / 2\n",
        "    return mean_value\n",
        "\n",
        "# 리스트의 길이가 홀수일 때\n",
        "def _median_odd(xs):\n",
        "    sorted_xs = sorted(xs)\n",
        "    midpoint = len(xs) // 2\n",
        "    mean_value = sorted_xs[midpoint]\n",
        "    return mean_value\n",
        "\n",
        "# 짝수/홀수 구분\n",
        "def median(xs):\n",
        "    if len(xs) % 2 == 0:\n",
        "        return _median_even(xs)\n",
        "    else:\n",
        "        return _median_odd(xs)\n",
        "\n",
        "median(flow)"
      ]
    },
    {
      "cell_type": "markdown",
      "id": "2a9785dc",
      "metadata": {
        "id": "2a9785dc"
      },
      "source": [
        "**문제**"
      ]
    },
    {
      "cell_type": "markdown",
      "id": "b72a49d8",
      "metadata": {
        "id": "b72a49d8"
      },
      "source": [
        "방류량의 최빈값을 계산하라."
      ]
    },
    {
      "cell_type": "code",
      "execution_count": 33,
      "id": "57bbd378",
      "metadata": {
        "colab": {
          "base_uri": "https://localhost:8080/"
        },
        "id": "57bbd378",
        "outputId": "cfe48b66-67a3-4e07-9b8d-ec1fcdbd6b01"
      },
      "outputs": [
        {
          "output_type": "execute_result",
          "data": {
            "text/plain": [
              "{11}"
            ]
          },
          "metadata": {},
          "execution_count": 33
        }
      ],
      "source": [
        "def mode(data):\n",
        "    counts = Counter(data)\n",
        "    max_count = max(counts.values())\n",
        "    modes = {x_i for x_i, count in counts.items() if count == max_count}\n",
        "    return modes\n",
        "\n",
        "mode(flow)"
      ]
    },
    {
      "cell_type": "markdown",
      "id": "8b501a41",
      "metadata": {
        "id": "8b501a41"
      },
      "source": [
        "**문제**"
      ]
    },
    {
      "cell_type": "markdown",
      "id": "30081d43",
      "metadata": {
        "id": "30081d43"
      },
      "source": [
        "방류량의 제1, 제3 사분위수를 계산하라."
      ]
    },
    {
      "cell_type": "code",
      "execution_count": 32,
      "id": "7ce74e81",
      "metadata": {
        "colab": {
          "base_uri": "https://localhost:8080/"
        },
        "id": "7ce74e81",
        "outputId": "cbbf2ba6-0330-4f8a-beb4-3213b8c6b4f2"
      },
      "outputs": [
        {
          "output_type": "stream",
          "name": "stdout",
          "text": [
            "1사분위수:  11\n",
            "3사분위수:  16\n"
          ]
        }
      ],
      "source": [
        "def quantile(xs, p):\n",
        "    \"\"\"\n",
        "    xs: 데이터셋\n",
        "    p: 하위 p% 위치\n",
        "    \"\"\"\n",
        "\n",
        "    xs_sorted = sorted(xs) # 정렬\n",
        "    p_index = int(p * len(xs)) # p%에 해당하는 인덱스\n",
        "\n",
        "    return xs_sorted[p_index]\n",
        "\n",
        "print(\"1사분위수: \", quantile(flow, 0.25))\n",
        "print(\"3사분위수: \", quantile(flow, 0.75))"
      ]
    },
    {
      "cell_type": "markdown",
      "id": "3d9a6797",
      "metadata": {
        "id": "3d9a6797"
      },
      "source": [
        "## 산포도와 분산"
      ]
    },
    {
      "cell_type": "markdown",
      "id": "453df3b1",
      "metadata": {
        "id": "453df3b1"
      },
      "source": [
        "**문제**"
      ]
    },
    {
      "cell_type": "markdown",
      "id": "2dc793d1",
      "metadata": {
        "id": "2dc793d1"
      },
      "source": [
        "클로로필-A 데이터의 범위를 계산하라."
      ]
    },
    {
      "cell_type": "code",
      "execution_count": 34,
      "id": "23bd71d0",
      "metadata": {
        "colab": {
          "base_uri": "https://localhost:8080/"
        },
        "id": "23bd71d0",
        "outputId": "082bec12-e328-4c2b-920c-c979f1312221"
      },
      "outputs": [
        {
          "output_type": "execute_result",
          "data": {
            "text/plain": [
              "74"
            ]
          },
          "metadata": {},
          "execution_count": 34
        }
      ],
      "source": [
        "def data_range(xs):\n",
        "    return max(xs) - min(xs)\n",
        "\n",
        "data_range(chl_a)"
      ]
    },
    {
      "cell_type": "markdown",
      "id": "1deb85f8",
      "metadata": {
        "id": "1deb85f8"
      },
      "source": [
        "**문제**"
      ]
    },
    {
      "cell_type": "markdown",
      "id": "f30911df",
      "metadata": {
        "id": "f30911df"
      },
      "source": [
        "클로로필-A 데이터의 분산을 계산하라."
      ]
    },
    {
      "cell_type": "code",
      "execution_count": 38,
      "id": "bd2353aa",
      "metadata": {
        "colab": {
          "base_uri": "https://localhost:8080/"
        },
        "id": "bd2353aa",
        "outputId": "72de30cb-25a0-4986-ebb8-16cf37c9cc54"
      },
      "outputs": [
        {
          "output_type": "execute_result",
          "data": {
            "text/plain": [
              "511.9195959595961"
            ]
          },
          "metadata": {},
          "execution_count": 38
        }
      ],
      "source": [
        "# 벡터 내적 함수\n",
        "def dotV(v, w):\n",
        "    assert len(v) == len(w), \"벡터들의 길이가 동일해야 함\"\"\"\n",
        "\n",
        "    return sum(v_i * w_i for v_i, w_i in zip(v, w))\n",
        "\n",
        "def dev_mean(xs):\n",
        "    \"\"\"평균값과의 차이 계산\"\"\"\n",
        "    mu = mean(xs)\n",
        "    return [x - mu for x in xs]\n",
        "\n",
        "def sum_of_squares(v):\n",
        "    \"\"\"반환값: v_1 * v_1 + ... + v_n * v_n\"\"\"\n",
        "    return dotV(v, v)\n",
        "\n",
        "def var(xs):\n",
        "    \"\"\"\n",
        "    분산값 계산. 단, 2개 이상의 데이터가 있어야 함.\n",
        "    \"\"\"\n",
        "\n",
        "    assert len(xs) >= 2, \"두 개 이상의 데이터 필요\"\n",
        "\n",
        "    n = len(xs)\n",
        "    deviations = dev_mean(xs)\n",
        "    deviation_sum = sum_of_squares(deviations)\n",
        "    return deviation_sum / (n - 1)\n",
        "\n",
        "var(chl_a)"
      ]
    },
    {
      "cell_type": "markdown",
      "id": "f6b300c9",
      "metadata": {
        "id": "f6b300c9"
      },
      "source": [
        "**문제**"
      ]
    },
    {
      "cell_type": "markdown",
      "id": "9a156e8b",
      "metadata": {
        "id": "9a156e8b"
      },
      "source": [
        "클로로필-A 데이터의 표준편차를 계산하라."
      ]
    },
    {
      "cell_type": "code",
      "execution_count": 39,
      "id": "7a2e8f19",
      "metadata": {
        "colab": {
          "base_uri": "https://localhost:8080/"
        },
        "id": "7a2e8f19",
        "outputId": "ffbcc8e3-72d7-4541-8487-1bec98cfd160"
      },
      "outputs": [
        {
          "output_type": "execute_result",
          "data": {
            "text/plain": [
              "22.62564023314249"
            ]
          },
          "metadata": {},
          "execution_count": 39
        }
      ],
      "source": [
        "import math\n",
        "\n",
        "def std(xs):\n",
        "    return math.sqrt(var(xs))\n",
        "\n",
        "std(chl_a)"
      ]
    },
    {
      "cell_type": "markdown",
      "id": "d73b2b11",
      "metadata": {
        "id": "d73b2b11"
      },
      "source": [
        "## 선형 상관관계"
      ]
    },
    {
      "cell_type": "markdown",
      "id": "da835ea6",
      "metadata": {
        "id": "da835ea6"
      },
      "source": [
        "**문제**"
      ]
    },
    {
      "cell_type": "markdown",
      "id": "2190b90e",
      "metadata": {
        "id": "2190b90e"
      },
      "source": [
        "클로로필-A와 시간당 방류량 사이의 공분산을 계산하고\n",
        "두 데이터 사이의 상관관계를 설명하라."
      ]
    },
    {
      "cell_type": "code",
      "execution_count": 41,
      "id": "0dc70d6b",
      "metadata": {
        "colab": {
          "base_uri": "https://localhost:8080/"
        },
        "id": "0dc70d6b",
        "outputId": "be598dc9-34f3-4d52-e648-39798f76a156"
      },
      "outputs": [
        {
          "output_type": "stream",
          "name": "stdout",
          "text": [
            "음의 상관관계\n",
            "-66.88868686868692\n"
          ]
        }
      ],
      "source": [
        "def cov(xs, ys):\n",
        "    assert len(xs) == len(ys), \"xs와 ys의 길이가 같아야 함.\"\n",
        "\n",
        "    return dotV(dev_mean(xs), dev_mean(ys)) / (len(xs) - 1)\n",
        "\n",
        "if cov(chl_a, flow) > 0:\n",
        "    print(\"양의 상관관계\")\n",
        "elif cov(chl_a, flow) < 0:\n",
        "    print(\"음의 상관관계\")\n",
        "else:\n",
        "    print(\"0의 상관관계\")\n",
        "print(cov(chl_a, flow))\n"
      ]
    },
    {
      "cell_type": "markdown",
      "id": "719162e0",
      "metadata": {
        "id": "719162e0"
      },
      "source": [
        "**문제**"
      ]
    },
    {
      "cell_type": "markdown",
      "id": "38a364fc",
      "metadata": {
        "id": "38a364fc"
      },
      "source": [
        "클로로필-A와 시간당 방류량 사이의 피어슨 상관계수를 계산하고\n",
        "두 데이터 사이의 선형 상관관계를 설명하라."
      ]
    },
    {
      "cell_type": "code",
      "execution_count": 42,
      "id": "1aef423c",
      "metadata": {
        "colab": {
          "base_uri": "https://localhost:8080/"
        },
        "id": "1aef423c",
        "outputId": "62fc307c-36b8-4f75-b06f-c9faa52a8443"
      },
      "outputs": [
        {
          "output_type": "execute_result",
          "data": {
            "text/plain": [
              "-0.46344389682687775"
            ]
          },
          "metadata": {},
          "execution_count": 42
        }
      ],
      "source": [
        "def corrcoef(xs, ys):\n",
        "    assert len(xs) == len(ys), \"xs와 ys의 길이가 같아야 함.\"\n",
        "\n",
        "    stdev_x = std(xs) # xs의 표준편차\n",
        "    stdev_y = std(ys) # ys의 표준편차\n",
        "\n",
        "    if stdev_x > 0 and stdev_y > 0:\n",
        "        return cov(xs, ys) / (stdev_x * stdev_y)\n",
        "    else:\n",
        "        return 0\n",
        "\n",
        "corrcoef(chl_a, flow)"
      ]
    },
    {
      "cell_type": "markdown",
      "id": "e3df3dc0",
      "metadata": {
        "id": "e3df3dc0"
      },
      "source": [
        "## 이상치"
      ]
    },
    {
      "cell_type": "markdown",
      "id": "0396b3f7",
      "metadata": {
        "id": "0396b3f7"
      },
      "source": [
        "**산점도**"
      ]
    },
    {
      "cell_type": "markdown",
      "id": "ce0db165",
      "metadata": {
        "id": "ce0db165"
      },
      "source": [
        "x축을 방류량, y축을 클로로필-A 수치로 지정한 다음 산점도를 그려보자."
      ]
    },
    {
      "cell_type": "code",
      "execution_count": 53,
      "id": "e1082a1a",
      "metadata": {
        "colab": {
          "base_uri": "https://localhost:8080/",
          "height": 542
        },
        "id": "e1082a1a",
        "outputId": "3679d791-cec4-46f4-ee55-37ead6541216"
      },
      "outputs": [
        {
          "output_type": "display_data",
          "data": {
            "text/plain": [
              "<Figure size 1000x600 with 1 Axes>"
            ],
            "image/png": "[encoded data removed]"
          },
          "metadata": {}
        }
      ],
      "source": [
        "plt.scatter(flow, chl_a)\n",
        "\n",
        "# 그래프 설정\n",
        "plt.xlabel(\"방류량\")           # x축 눈금 설명\n",
        "plt.ylabel(\"클로로필-A\")       # y축 눈금 설명\n",
        "plt.show()"
      ]
    },
    {
      "cell_type": "markdown",
      "id": "81fdd2f3",
      "metadata": {
        "id": "81fdd2f3"
      },
      "source": [
        "**문제**"
      ]
    },
    {
      "cell_type": "markdown",
      "id": "fe1b7c70",
      "metadata": {
        "id": "fe1b7c70"
      },
      "source": [
        "위 산점도에 따르면 두 개의 이상치가 존재한다.\n",
        "어떤 데이터가 이상치인지 설명하라."
      ]
    },
    {
      "cell_type": "markdown",
      "id": "161908a9",
      "metadata": {
        "id": "161908a9"
      },
      "source": []
    },
    {
      "cell_type": "markdown",
      "id": "5a45e5c2",
      "metadata": {
        "id": "5a45e5c2"
      },
      "source": [
        "**문제**"
      ]
    },
    {
      "cell_type": "markdown",
      "id": "34b67544",
      "metadata": {
        "id": "34b67544"
      },
      "source": [
        "클로로필-A 데이터와 방수량 두 데이터셋 모두에서\n",
        "이상치에 해당하는 두 개의 값을 제거한다."
      ]
    },
    {
      "cell_type": "code",
      "source": [
        "#인덱스 확인\n",
        "over40_index = []\n",
        "\n",
        "for i in range(100):\n",
        "    if flow[i] >= 40:\n",
        "        over40_index.append(i)\n",
        "\n",
        "over40_index"
      ],
      "metadata": {
        "id": "aBV0O1USOIu2",
        "outputId": "dc3a8900-079a-4f38-b65c-433885279cdc",
        "colab": {
          "base_uri": "https://localhost:8080/"
        }
      },
      "id": "aBV0O1USOIu2",
      "execution_count": 64,
      "outputs": [
        {
          "output_type": "execute_result",
          "data": {
            "text/plain": [
              "[62, 97]"
            ]
          },
          "metadata": {},
          "execution_count": 64
        }
      ]
    },
    {
      "cell_type": "code",
      "execution_count": 65,
      "id": "3e97166c",
      "metadata": {
        "id": "3e97166c"
      },
      "outputs": [],
      "source": [
        "# None을 적절한 표현식으로 대체할 것.\n",
        "new_chl_a = []\n",
        "\n",
        "for i in range(100):\n",
        "    if i in over40_index:\n",
        "        continue\n",
        "\n",
        "    new_chl_a.append(chl_a[i])"
      ]
    },
    {
      "cell_type": "code",
      "execution_count": 66,
      "id": "36cc9fbd",
      "metadata": {
        "id": "36cc9fbd"
      },
      "outputs": [],
      "source": [
        "# None을 적절한 표현식으로 대체할 것.\n",
        "new_flow = []\n",
        "\n",
        "for i in range(100):\n",
        "    if i in over40_index:\n",
        "        continue\n",
        "\n",
        "    new_flow.append(flow[i])"
      ]
    },
    {
      "cell_type": "markdown",
      "id": "72704922",
      "metadata": {
        "id": "72704922"
      },
      "source": [
        "이상치를 제거한 두 데이터셋을 이용하여 산점도를 다시 그려라."
      ]
    },
    {
      "cell_type": "code",
      "execution_count": 67,
      "id": "726c25fa",
      "metadata": {
        "colab": {
          "base_uri": "https://localhost:8080/",
          "height": 542
        },
        "id": "726c25fa",
        "outputId": "5b2181d2-9b48-4b37-f0c8-37ed4e90cd0f"
      },
      "outputs": [
        {
          "output_type": "display_data",
          "data": {
            "text/plain": [
              "<Figure size 1000x600 with 1 Axes>"
            ],
            "image/png": "[encoded data removed]"
          },
          "metadata": {}
        }
      ],
      "source": [
        "plt.scatter(new_flow, new_chl_a)\n",
        "\n",
        "# 그래프 설정\n",
        "plt.xlabel(\"방류량\")           # x축 눈금 설명\n",
        "plt.ylabel(\"클로로필-A\")       # y축 눈금 설명\n",
        "plt.show()"
      ]
    },
    {
      "cell_type": "markdown",
      "id": "60027bf2",
      "metadata": {
        "id": "60027bf2"
      },
      "source": [
        "**문제**"
      ]
    },
    {
      "cell_type": "markdown",
      "id": "8002b022",
      "metadata": {
        "id": "8002b022"
      },
      "source": [
        "이상치를 제거하기 이전과 이후의 데이터셋을 이용하여 아래 값들이 어떻게 달라졌는지 설명하라.\n",
        "\n",
        "- 평균값, 중앙값, 최빈값\n",
        "- 범위, 사분범위, 분산, 표준편차\n",
        "- 공분산, 피어슨 상관계수"
      ]
    },
    {
      "cell_type": "markdown",
      "id": "c65f2a3d",
      "metadata": {
        "id": "c65f2a3d"
      },
      "source": [
        "mean(new_"
      ]
    },
    {
      "cell_type": "code",
      "source": [
        "print('평균값: ', mean(new_chl_a))\n",
        "print('중앙값: ', median(new_chl_a))\n",
        "print('최빈값: ',mode(new_chl_a))\n",
        "\n",
        "print('1사분위수: ',quantile(new_chl_a, 0.25))\n",
        "print('3사분위수: ',quantile(new_chl_a, 0.75))\n",
        "\n",
        "print('범위: ',data_range(new_chl_a))\n",
        "print('분산: ',var(new_chl_a))\n",
        "print('표준편차: ',std(new_chl_a))\n",
        "\n",
        "print('공분산: ',cov(new_chl_a, new_flow))\n",
        "print('피어슨 상관계수: ',corrcoef(new_chl_a, new_flow))"
      ],
      "metadata": {
        "colab": {
          "base_uri": "https://localhost:8080/"
        },
        "id": "3RgSbPKLABL-",
        "outputId": "1f0c025a-e758-4e61-ca3a-8440818e0f33"
      },
      "id": "3RgSbPKLABL-",
      "execution_count": 68,
      "outputs": [
        {
          "output_type": "stream",
          "name": "stdout",
          "text": [
            "평균값:  93.43877551020408\n",
            "중앙값:  97.5\n",
            "최빈값:  {122}\n",
            "1사분위수:  73\n",
            "3사분위수:  114\n",
            "범위:  74\n",
            "분산:  511.6508520934147\n",
            "표준편차:  22.61970053058649\n",
            "공분산:  -83.42036608457812\n",
            "피어슨 상관계수:  -0.9565347907790098\n"
          ]
        }
      ]
    }
  ],
  "metadata": {
    "kernelspec": {
      "display_name": "Python 3 (ipykernel)",
      "language": "python",
      "name": "python3"
    },
    "language_info": {
      "codemirror_mode": {
        "name": "ipython",
        "version": 3
      },
      "file_extension": ".py",
      "mimetype": "text/x-python",
      "name": "python",
      "nbconvert_exporter": "python",
      "pygments_lexer": "ipython3",
      "version": "3.9.13"
    },
    "vscode": {
      "interpreter": {
        "hash": "ad0f3c8a064f687cbf898a0868fd45ba1c7e928ac8a0404f7c241d812ddc1e76"
      }
    },
    "colab": {
      "provenance": []
    }
  },
  "nbformat": 4,
  "nbformat_minor": 5
}